{
  "nbformat": 4,
  "nbformat_minor": 0,
  "metadata": {
    "colab": {
      "provenance": []
    },
    "kernelspec": {
      "name": "python3",
      "display_name": "Python 3"
    },
    "language_info": {
      "name": "python"
    }
  },
  "cells": [
    {
      "cell_type": "markdown",
      "source": [
        "Python Basics Assignment"
      ],
      "metadata": {
        "id": "lhh2X0skO0DG"
      }
    },
    {
      "cell_type": "markdown",
      "source": [
        "1. What is Python, and why is it popular?\n",
        "   - Python is a flexible, high-level programming language that is interpreted and recognized for its clarity and user-friendliness. Its popularity stems from an uncomplicated syntax, a wide range of libraries, and its ability to be applied in diverse areas such as web development, data science, and machine learning.\n",
        "\n",
        "2. What is interpreter in Python?\n",
        "   - In Python, an interpreter is a software that processes and runs code one line at a time, as opposed to a compiler that converts the code into machine code prior to execution.\n",
        "\n",
        "3. What are pre-defined keywords in Python?\n",
        "   - Keywords are specific, reserved terms in Python programming that hold particular significance for the compiler. It is not permissible to use a keyword as the name of a variable, function, or any other identifier. They serve to establish the syntax and framework of the Python language.\n",
        "\n",
        "4. Can keywords be used as variable names?\n",
        "   - No, keywords cannot be used as variable names in Python.\n",
        "\n",
        "5. What is mutability in Python?\n",
        "   -  Mutable objects refer to objects that have the ability to change. In Python, two examples of mutable objects are lists and dictionaries.\n",
        "\n",
        "6. Why are lists mutable, but tuples are immutable?\n",
        "   - Tuples and lists are identical in every respect except for two differences: tuples are enclosed in parentheses, while lists are enclosed in square brackets.The elements within tuples cannot be altered whereas the elements in lists can be changed.\n",
        "\n",
        "7. What is the difference between “==” and “is” operators in Python?\n",
        "   - The '==' operator is referred to as the equality operator. The 'is' operator is referred to as the identity operator. The == operator allows us to compare whether objects are equal. The is operator enables us to determine if different variables refer to the same object in memory.\n",
        "\n",
        "8. What are logical operators in Python?\n",
        "   - Logical operators in Python serve to combine or alter boolean expressions True or False. There are three primary logical operators: and, or, not.\n",
        "\n",
        "9. What is type casting in Python?\n",
        "   - Type casting, referred to as type conversion, involves transforming one data type into a different one.\n",
        "\n",
        "10. What is the difference between implicit and explicit type casting?\n",
        "   - Implicit type conversion is performed by a Python interpreter only. Explicit type conversion is performed by the user by explicitly using type conversion functions in the program code.\n",
        "\n",
        "11. What is the purpose of conditional statements in Python?\n",
        "    - Conditional statements in Python serve to manage the execution process of a program by evaluating whether a given condition holds true or false. They enable the program to make choices and run distinct segments of code according to the situation.\n",
        "\n",
        "12. How does the elif statement work?\n",
        "    - 'Elif' stands for 'else if' and is used in Python programming to test multiple conditions. It is written following an if statement in Python to check an alternative condition if the first condition is false.\n",
        "\n",
        "13. What is the difference between for and while loops?\n",
        "    - The difference between for loops and while loops is based on their intended use and the way they execute. For loops are generally utilized when the number of iterations is known in advance or when processing each item in a sequence is necessary, whereas while loops are applied when you need to repeat a section of code until a specific condition is satisfied, which may not be set to a fixed number of times.\n",
        "\n",
        "14. Describe a scenario where a while loop is more suitable than a for loop.\n",
        "    - A 'while' loop is best suited for scenarios where the total number of iterations isn't known in advance and relies on a changing condition.\n",
        "    - When the number of iterations is not known beforehand and depends on a condition.\n",
        "    - When you need to wait for a condition to become true, such as waiting for user input or a resource to become available.\n",
        "\n",
        "  \n",
        "\n",
        "\n",
        "\n"
      ],
      "metadata": {
        "id": "3RtVWoB5O8Dr"
      }
    },
    {
      "cell_type": "code",
      "execution_count": 1,
      "metadata": {
        "colab": {
          "base_uri": "https://localhost:8080/"
        },
        "id": "aiaUwDXAOnQc",
        "outputId": "9d0a0927-a5eb-4ef5-c918-3a81eb667f22"
      },
      "outputs": [
        {
          "output_type": "stream",
          "name": "stdout",
          "text": [
            "Hello, World!\n"
          ]
        }
      ],
      "source": [
        "# Write a Python program to print \"Hello, World!\"\n",
        "\n",
        "print(\"Hello, World!\")\n"
      ]
    },
    {
      "cell_type": "code",
      "source": [
        "# Write a Python program that displays your name and age.\n",
        "\n",
        "name = \"Anwar Shaikh\"\n",
        "age = 29\n",
        "\n",
        "print(\"Name:\", name)\n",
        "print(\"Age:\", age)"
      ],
      "metadata": {
        "colab": {
          "base_uri": "https://localhost:8080/"
        },
        "id": "d4H9zKIsaRtB",
        "outputId": "395c342a-a4bc-462a-8c22-506ecee1c1e8"
      },
      "execution_count": 2,
      "outputs": [
        {
          "output_type": "stream",
          "name": "stdout",
          "text": [
            "Name: Anwar Shaikh\n",
            "Age: 29\n"
          ]
        }
      ]
    },
    {
      "cell_type": "code",
      "source": [
        "# Write code to print all the pre-defined keywords in Python using the keyword library.\n",
        "\n",
        "import keyword\n",
        "\n",
        "print(keyword.kwlist)"
      ],
      "metadata": {
        "colab": {
          "base_uri": "https://localhost:8080/"
        },
        "id": "jWdCseZTbGCU",
        "outputId": "6149985b-8531-48f0-bc75-383189086668"
      },
      "execution_count": 3,
      "outputs": [
        {
          "output_type": "stream",
          "name": "stdout",
          "text": [
            "['False', 'None', 'True', 'and', 'as', 'assert', 'async', 'await', 'break', 'class', 'continue', 'def', 'del', 'elif', 'else', 'except', 'finally', 'for', 'from', 'global', 'if', 'import', 'in', 'is', 'lambda', 'nonlocal', 'not', 'or', 'pass', 'raise', 'return', 'try', 'while', 'with', 'yield']\n"
          ]
        }
      ]
    },
    {
      "cell_type": "code",
      "source": [
        "# Write a program that checks if a given word is a Python keyword.\n",
        "\n",
        "import keyword\n",
        "\n",
        "s = 'for'\n",
        "\n",
        "# Check if it's a Python keyword\n",
        "if keyword.iskeyword(s):\n",
        "    print(f\"'{s}' is a Python keyword.\")\n",
        "else:\n",
        "    print(f\"'{s}' is not a Python keyword.\")"
      ],
      "metadata": {
        "colab": {
          "base_uri": "https://localhost:8080/"
        },
        "id": "Rnv-nI9ubUp7",
        "outputId": "7a1b31ba-9e49-46ca-b21c-dadb20aac248"
      },
      "execution_count": 4,
      "outputs": [
        {
          "output_type": "stream",
          "name": "stdout",
          "text": [
            "'for' is a Python keyword.\n"
          ]
        }
      ]
    },
    {
      "cell_type": "code",
      "source": [
        "#  Create a list and tuple in Python, and demonstrate how attempting to change an element works differently\n",
        "for each.\n",
        "\n",
        "my_list = [1, 2, 3]\n",
        "print(\"Original list:\", my_list)\n",
        "\n",
        "my_list[1] = 4\n",
        "print(\"Modified list:\", my_list)"
      ],
      "metadata": {
        "id": "SVlH_w5ZcI7k"
      },
      "execution_count": null,
      "outputs": []
    },
    {
      "cell_type": "code",
      "source": [
        "# Write a function to demonstrate the behavior of mutable and immutable arguments\n",
        "\n",
        " num = 5\n",
        "my_list = [1, 2, 3]\n",
        "\n",
        "modify_args(num, my_list)\n",
        "\n",
        "print(f\"Immutable arg after function call: {num}\")\n",
        "print(f\"Mutable arg after function call: {my_list}\")"
      ],
      "metadata": {
        "colab": {
          "base_uri": "https://localhost:8080/",
          "height": 106
        },
        "collapsed": true,
        "id": "3tx7KfPNddFc",
        "outputId": "72ddb4c2-1260-4246-d325-ee51082f089e"
      },
      "execution_count": 5,
      "outputs": [
        {
          "output_type": "error",
          "ename": "IndentationError",
          "evalue": "unexpected indent (<ipython-input-5-21a0d3027882>, line 3)",
          "traceback": [
            "\u001b[0;36m  File \u001b[0;32m\"<ipython-input-5-21a0d3027882>\"\u001b[0;36m, line \u001b[0;32m3\u001b[0m\n\u001b[0;31m    num = 5\u001b[0m\n\u001b[0m    ^\u001b[0m\n\u001b[0;31mIndentationError\u001b[0m\u001b[0;31m:\u001b[0m unexpected indent\n"
          ]
        }
      ]
    },
    {
      "cell_type": "code",
      "source": [
        "# Write a program that performs basic arithmetic operations on two user-input numbers.\n",
        "\n",
        "def add(x, y):\n",
        "    \"\"\"Performs addition of two numbers.\"\"\"\n",
        "    return x + y\n",
        "\n",
        "def subtract(x, y):\n",
        "    \"\"\"Performs subtraction of two numbers.\"\"\"\n",
        "    return x - y\n",
        "\n",
        "def multiply(x, y):\n",
        "    \"\"\"Performs multiplication of two numbers.\"\"\"\n",
        "    return x * y\n",
        "\n",
        "def divide(x, y):\n",
        "    \"\"\"Performs division of two numbers. Handles division by zero.\"\"\"\n",
        "    if y == 0:\n",
        "        return \"Error: Cannot divide by zero.\"\n",
        "    else:\n",
        "        return x / y\n",
        "\n",
        "# Get input from the user\n",
        "num1 = float(input(\"Enter the first number: \"))\n",
        "num2 = float(input(\"Enter the second number: \"))\n",
        "\n",
        "# Perform and display the operations\n",
        "print(\"Addition:\", add(num1, num2))\n",
        "print(\"Subtraction:\", subtract(num1, num2))\n",
        "print(\"Multiplication:\", multiply(num1, num2))\n",
        "print(\"Division:\", divide(num1, num2))"
      ],
      "metadata": {
        "colab": {
          "base_uri": "https://localhost:8080/"
        },
        "id": "MkelmVcdd9u7",
        "outputId": "beae90bd-d5f5-4e87-b736-d55d02d031d7"
      },
      "execution_count": 6,
      "outputs": [
        {
          "output_type": "stream",
          "name": "stdout",
          "text": [
            "Enter the first number: 12\n",
            "Enter the second number: 12\n",
            "Addition: 24.0\n",
            "Subtraction: 0.0\n",
            "Multiplication: 144.0\n",
            "Division: 1.0\n"
          ]
        }
      ]
    },
    {
      "cell_type": "code",
      "source": [
        "# Write a program to demonstrate the use of logical operators.\n",
        "\n",
        "# Logical AND: Returns True if both operands are true\n",
        "a = True\n",
        "b = False\n",
        "result_and = a and b\n",
        "print(f\"a and b: {result_and}\") # Output: a and b: False\n",
        "\n",
        "a = True\n",
        "b = True\n",
        "result_and = a and b\n",
        "print(f\"a and b: {result_and}\") # Output: a and b: True\n",
        "\n",
        "# Logical OR: Returns True if at least one operand is true\n",
        "a = True\n",
        "b = False\n",
        "result_or = a or b\n",
        "print(f\"a or b: {result_or}\") # Output: a or b: True\n",
        "\n",
        "a = False\n",
        "b = False\n",
        "result_or = a or b\n",
        "print(f\"a or b: {result_or}\") # Output: a or b: False\n",
        "\n",
        "# Logical NOT: Returns True if the operand is false, and vice versa\n",
        "a = True\n",
        "result_not = not a\n",
        "print(f\"not a: {result_not}\") # Output: not a: False\n",
        "\n",
        "a = False\n",
        "result_not = not a\n",
        "print(f\"not a: {result_not}\") # Output: not a: True\n",
        "\n",
        "# Combining logical operators\n",
        "x = 5\n",
        "y = 10\n",
        "condition = (x > 0 and y < 15) or (x < 0)\n",
        "print(f\"Combined condition result: {condition}\") # Output: Combined condition result: True"
      ],
      "metadata": {
        "id": "UanPxnsneUZl"
      },
      "execution_count": null,
      "outputs": []
    },
    {
      "cell_type": "code",
      "source": [
        "# Write a Python program to convert user input from string to integer, float, and boolean types.\n",
        "\n",
        "def convert_input():\n",
        "    user_input = input(\"Enter a value: \")\n",
        "\n",
        "    try:\n",
        "        # Attempt to convert to integer\n",
        "        integer_value = int(user_input)\n",
        "        print(f\"Integer: {integer_value}, Type: {type(integer_value)}\")\n",
        "    except ValueError:\n",
        "        print(\"Not an integer.\")\n",
        "\n",
        "    try:\n",
        "        # Attempt to convert to float\n",
        "        float_value = float(user_input)\n",
        "        print(f\"Float: {float_value}, Type: {type(float_value)}\")\n",
        "    except ValueError:\n",
        "        print(\"Not a float.\")\n",
        "\n",
        "    # Attempt to convert to boolean\n",
        "    if user_input.lower() == 'true':\n",
        "        boolean_value = True\n",
        "        print(f\"Boolean: {boolean_value}, Type: {type(boolean_value)}\")\n",
        "    elif user_input.lower() == 'false':\n",
        "        boolean_value = False\n",
        "        print(f\"Boolean: {boolean_value}, Type: {type(boolean_value)}\")\n",
        "    else:\n",
        "        print(\"Not a boolean (True/False).\")\n",
        "\n",
        "convert_input()"
      ],
      "metadata": {
        "id": "Xp10xPVaefSK"
      },
      "execution_count": null,
      "outputs": []
    },
    {
      "cell_type": "code",
      "source": [
        "# Write code to demonstrate type casting with list elements.\n",
        "\n",
        "a = [1, 4, 9, 10, 19]\n",
        "b = [[5, 6, 8], [8, 5, 3], [9, 10, 3]]\n",
        "\n",
        "c = [str(x) for x in a]\n",
        "d = [[str(x) for x in sub] for sub in b]\n",
        "\n",
        "print(c)\n",
        "print(d)"
      ],
      "metadata": {
        "id": "5ZuEP3G9eo0R"
      },
      "execution_count": null,
      "outputs": []
    },
    {
      "cell_type": "code",
      "source": [
        "# Write a program that checks if a number is positive, negative, or zero.\n",
        "\n",
        "num = float(input(\"Enter a number: \"))\n",
        "if num > 0:\n",
        "   print(\"Positive number\")\n",
        "elif num == 0:\n",
        "   print(\"Zero\")\n",
        "else:\n",
        "   print(\"Negative number\")\n"
      ],
      "metadata": {
        "id": "cE7eIEgefDG_"
      },
      "execution_count": null,
      "outputs": []
    },
    {
      "cell_type": "code",
      "source": [
        "# Write a for loop to print numbers from 1 to 10.\n",
        "\n",
        "for i in range(1, 11):\n",
        "    print(i)"
      ],
      "metadata": {
        "id": "YcEi0ESJfPhu"
      },
      "execution_count": null,
      "outputs": []
    },
    {
      "cell_type": "code",
      "source": [
        "#  Write a Python program to find the sum of all even numbers between 1 and 50.\n",
        "\n",
        "total = 0\n",
        "for number in range(2, 51, 2):\n",
        "    total += number\n",
        "print(total)"
      ],
      "metadata": {
        "id": "caKJbgVxfb7b"
      },
      "execution_count": null,
      "outputs": []
    },
    {
      "cell_type": "code",
      "source": [
        "# Write a program to reverse a string using a while loop.\n",
        "\n",
        "def reverse_string(s):\n",
        "    reversed_s = \"\"\n",
        "    length = len(s) - 1\n",
        "    while length >= 0:\n",
        "        reversed_s += s[length]\n",
        "        length -= 1\n",
        "    return reversed_s\n",
        "\n",
        "input_string = \"hello\"\n",
        "reversed_string = reverse_string(input_string)\n",
        "print(\"Reversed string:\", reversed_string)"
      ],
      "metadata": {
        "id": "C-z6D3j3fnEa"
      },
      "execution_count": null,
      "outputs": []
    },
    {
      "cell_type": "code",
      "source": [
        "# Write a Python program to calculate the factorial of a number provided by the user using a while loop.\n",
        "\n",
        "def factorial_while_loop(n):\n",
        "    \"\"\"Calculates the factorial of a non-negative integer using a while loop.\n",
        "\n",
        "    Args:\n",
        "        n: The non-negative integer for which to calculate the factorial.\n",
        "\n",
        "    Returns:\n",
        "        The factorial of n, or 1 if n is 0.\n",
        "        Returns an error message if n is negative.\n",
        "    \"\"\"\n",
        "    if n < 0:\n",
        "        return \"Factorial is not defined for negative numbers.\"\n",
        "    elif n == 0:\n",
        "        return 1\n",
        "    else:\n",
        "        factorial = 1\n",
        "        while n > 0:\n",
        "            factorial *= n\n",
        "            n -= 1\n",
        "        return factorial\n",
        "\n",
        "# Get input from the user\n",
        "num = int(input(\"Enter a non-negative integer: \"))\n",
        "\n",
        "# Calculate and print the factorial\n",
        "result = factorial_while_loop(num)\n",
        "print(f\"The factorial of {num} is {result}\")"
      ],
      "metadata": {
        "colab": {
          "base_uri": "https://localhost:8080/"
        },
        "id": "0QpuRHimfwda",
        "outputId": "876c56d0-cceb-4b05-f155-d20dee8872c1"
      },
      "execution_count": 7,
      "outputs": [
        {
          "output_type": "stream",
          "name": "stdout",
          "text": [
            "Enter a non-negative integer: 2\n",
            "The factorial of 2 is 2\n"
          ]
        }
      ]
    }
  ]
}